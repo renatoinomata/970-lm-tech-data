{
 "cells": [
  {
   "attachments": {},
   "cell_type": "markdown",
   "metadata": {},
   "source": [
    "# Exercícios numpy"
   ]
  },
  {
   "attachments": {},
   "cell_type": "markdown",
   "metadata": {},
   "source": [
    "## Questão 1\n",
    "\n",
    "Vamos explorar algumas funcionalidades do numpy\n",
    "\n",
    "1) Crie um array aleatório de 15 itens entre 0 e 100\n",
    "\n",
    "2) Qual o maior número do array?\n",
    "\n",
    "3) Qual a sua posição?\n",
    "\n",
    "4) Quais números do array são maiores que 10?\n",
    "\n",
    "5) Crie um novo array em que existam apenas elementos entre 10 e 30 (10 e 30 inclusos)\n"
   ]
  },
  {
   "cell_type": "code",
   "execution_count": 53,
   "metadata": {},
   "outputs": [
    {
     "name": "stdout",
     "output_type": "stream",
     "text": [
      "1) Crie um array aleatório de 15 itens entre 0 e 100\n",
      "Array gerado: [44 47 64 67 67  9 83 21 36 87 70 88 88 12 58]\n",
      "--------------------------------\n",
      "2) Qual o maior número do array?\n",
      "O maior valor do array foi: 88\n",
      "--------------------------------\n",
      "3) Qual a sua posição?\n",
      "Sua posição é 11\n",
      "Lembrando que o máximo deste array se repete.\n",
      "--------------------------------\n",
      "4) Quais números do array são maiores que 10?\n",
      "números acima de 10: [44 47 64 67 67 83 21 36 87 70 88 88 12 58]\n",
      "--------------------------------\n",
      "5) Crie um novo array em que existam apenas elementos entre 10 e 30 (10 e 30 inclusos)\n",
      "números entre 10 e 30: [21 12]\n",
      "Ou, utilizando filter: [21 12]\n"
     ]
    }
   ],
   "source": [
    "import numpy as np\n",
    "\n",
    "np.random.seed(0)\n",
    "\n",
    "# Questão 1\n",
    "print('1) Crie um array aleatório de 15 itens entre 0 e 100')\n",
    "\n",
    "arr1 = np.random.randint(0, 100, 15)\n",
    "print(f'Array gerado: {arr1}')\n",
    "print('-'*32)\n",
    "\n",
    "# Questão 2\n",
    "print('2) Qual o maior número do array?')\n",
    "\n",
    "print(f'O maior valor do array foi: {arr1.max()}')\n",
    "print('-'*32)\n",
    "\n",
    "# Questão 3\n",
    "print('3) Qual a sua posição?')\n",
    "\n",
    "print(f'Sua posição é {arr1.argmax()}')\n",
    "print('Lembrando que o máximo deste array se repete.')\n",
    "print('-'*32)\n",
    "\n",
    "# Questão 4\n",
    "print('4) Quais números do array são maiores que 10?')\n",
    "print(f'números acima de 10: {arr1[arr1 > 10]}')\n",
    "print('-'*32)\n",
    "\n",
    "# Questão 5\n",
    "print('5) Crie um novo array em que existam apenas elementos entre 10 e 30 (10 e 30 inclusos)')\n",
    "print(f'números entre 10 e 30: {arr1[(arr1 <= 30) & (arr1 >= 10)]}')\n",
    "print(f'Ou, utilizando filter: {np.array(list(filter(lambda x: 10 <= x <= 30, arr1)))}')"
   ]
  },
  {
   "attachments": {},
   "cell_type": "markdown",
   "metadata": {},
   "source": [
    "## Questão 2\n",
    "\n",
    "Agora vamos trabalhar com matrizes.\n",
    "\n",
    "1) Crie uma matriz (5, 2) com números igualmente espaçados entre 0 e 100 (utilize o np.linspace)\n",
    "\n",
    "2) Qual o maior valor da matriz?\n",
    "\n",
    "3) Qual o valor máximo por linha?\n",
    "\n",
    "4) Qual o valor máximo por coluna?\n",
    "\n",
    "5) Qual a média por linha?\n",
    "\n",
    "6) Qual a média da matriz?\n"
   ]
  },
  {
   "cell_type": "code",
   "execution_count": 57,
   "metadata": {},
   "outputs": [
    {
     "name": "stdout",
     "output_type": "stream",
     "text": [
      "1) Crie uma matriz (5, 2) com números igualmente espaçados entre 0 e 100 (utilize o np.linspace)\n",
      "[[  0.          11.11111111]\n",
      " [ 22.22222222  33.33333333]\n",
      " [ 44.44444444  55.55555556]\n",
      " [ 66.66666667  77.77777778]\n",
      " [ 88.88888889 100.        ]]\n",
      "--------------------------------\n",
      "2) Qual o maior valor da matriz?\n",
      "100.0\n",
      "--------------------------------\n",
      "3) Qual o valor máximo por linha?\n",
      "[ 11.11111111  33.33333333  55.55555556  77.77777778 100.        ]\n",
      "--------------------------------\n",
      "4) Qual o valor máximo por coluna?\n",
      "[ 88.88888889 100.        ]\n",
      "--------------------------------\n",
      "5) Qual a média por linha?\n",
      "[ 5.55555556 27.77777778 50.         72.22222222 94.44444444]\n",
      "--------------------------------\n",
      "6) Qual a média da matriz?\n",
      "50.0\n"
     ]
    }
   ],
   "source": [
    "# Questão 1\n",
    "print('1) Crie uma matriz (5, 2) com números igualmente espaçados entre 0 e 100 (utilize o np.linspace)')\n",
    "\n",
    "mat = np.linspace(0, 100, 10).reshape(5, 2)\n",
    "print(mat)\n",
    "print('-'*32)\n",
    "\n",
    "# Questão 2\n",
    "print('2) Qual o maior valor da matriz?')\n",
    "\n",
    "print(mat.max())\n",
    "print('-'*32)\n",
    "\n",
    "# Questão 3 \n",
    "print('3) Qual o valor máximo por linha?')\n",
    "\n",
    "print(mat.max(axis = 1))\n",
    "print('-'*32)\n",
    "\n",
    "# Questão 4\n",
    "print('4) Qual o valor máximo por coluna?')\n",
    "\n",
    "print(mat.max(axis = 0))\n",
    "print('-'*32)\n",
    "\n",
    "# Questão 5\n",
    "print('5) Qual a média por linha?')\n",
    "\n",
    "print(mat.mean(axis = 1))\n",
    "print('-'*32)\n",
    "\n",
    "# Questão 6\n",
    "print('6) Qual a média da matriz?')\n",
    "\n",
    "print(mat.mean())"
   ]
  },
  {
   "attachments": {},
   "cell_type": "markdown",
   "metadata": {},
   "source": [
    "## Questão 3\n",
    "\n",
    "Imprima as dimensões (shape) dos seguintes arrays:\n",
    "\n",
    "    a = np.array(2)\n",
    "\n",
    "    b = np.array([1, 2, 3, 4, 5])\n",
    "\n",
    "    c = np.array([[1, 2, 3], [4, 5, 6]])\n",
    "\n",
    "    d = np.array([[[1, 2, 3], [4, 5, 6]], [[7, 8, 9], [10, 11, 12]]])\n"
   ]
  },
  {
   "cell_type": "code",
   "execution_count": 31,
   "metadata": {},
   "outputs": [
    {
     "name": "stdout",
     "output_type": "stream",
     "text": [
      "a shape: ()\n",
      "b shape: (5,)\n",
      "c shape: (2, 3)\n",
      "d shape: (2, 2, 3)\n"
     ]
    }
   ],
   "source": [
    "a = np.array(2)\n",
    "b = np.array([1, 2, 3, 4, 5])\n",
    "c = np.array([[1, 2, 3], [4, 5, 6]])\n",
    "d = np.array([[[1, 2, 3], [4, 5, 6]], [[7, 8, 9], [10, 11, 12]]])\n",
    "\n",
    "print(f'a shape: {a.shape}')\n",
    "print(f'b shape: {b.shape}')\n",
    "print(f'c shape: {c.shape}')\n",
    "print(f'd shape: {d.shape}')"
   ]
  },
  {
   "attachments": {},
   "cell_type": "markdown",
   "metadata": {},
   "source": [
    "## Questão 4\n",
    "\n",
    "Transforme o array em uma matriz 4 por 3 utilizando numpy.\n",
    "\n",
    "    arr = [1, 2, 3, 4, 'Amelia, 'Bruna, 'Carolina', 'Débora', True, False, False, True]\n",
    "\n",
    "Depois, faça o mesmo para uma matriz 3 por 4.\n"
   ]
  },
  {
   "cell_type": "code",
   "execution_count": 39,
   "metadata": {},
   "outputs": [
    {
     "name": "stdout",
     "output_type": "stream",
     "text": [
      "matriz 4x3:\n",
      "[['1' '2' '3']\n",
      " ['4' 'Amelia' 'Bruna']\n",
      " ['Carolina' 'Débora' 'True']\n",
      " ['False' 'False' 'True']]\n",
      "--------------------------------\n",
      "matriz 3x4:\n",
      "[['1' '2' '3' '4']\n",
      " ['Amelia' 'Bruna' 'Carolina' 'Débora']\n",
      " ['True' 'False' 'False' 'True']]\n"
     ]
    }
   ],
   "source": [
    "arr = np.array([1, 2, 3, 4, 'Amelia', 'Bruna', 'Carolina', 'Débora', True, False, False, True])\n",
    "\n",
    "mat_4x3 = arr.reshape(4, 3)\n",
    "print(f'matriz 4x3:\\n{mat_4x3}')\n",
    "\n",
    "print('-'*32)\n",
    "\n",
    "mat_3x4 = arr.reshape(3, 4)\n",
    "print(f'matriz 3x4:\\n{mat_3x4}')"
   ]
  },
  {
   "attachments": {},
   "cell_type": "markdown",
   "metadata": {},
   "source": [
    "## Questão 5\n",
    "\n",
    "Crie um array com 40 números aleatórios, distribuídos uniformemente, entre [0, 5).\n",
    "\n",
    "Para cada elemento do array, calcule:\n",
    "\n",
    "- Seno\n",
    "- Cosseno\n",
    "- Log na base 2"
   ]
  },
  {
   "cell_type": "code",
   "execution_count": 52,
   "metadata": {},
   "outputs": [
    {
     "name": "stdout",
     "output_type": "stream",
     "text": [
      "[4 0 3 3 3 1 3 2 4 0 0 4 2 1 0 1 1 0 1 4 3 0 3 0 2 3 0 1 3 3 3 0 1 1 1 0 2\n",
      " 4 3 3]\n",
      "--------------------------------\n",
      "Seno:\n",
      " [-0.7568025   0.          0.14112001  0.14112001  0.14112001  0.84147098\n",
      "  0.14112001  0.90929743 -0.7568025   0.          0.         -0.7568025\n",
      "  0.90929743  0.84147098  0.          0.84147098  0.84147098  0.\n",
      "  0.84147098 -0.7568025   0.14112001  0.          0.14112001  0.\n",
      "  0.90929743  0.14112001  0.          0.84147098  0.14112001  0.14112001\n",
      "  0.14112001  0.          0.84147098  0.84147098  0.84147098  0.\n",
      "  0.90929743 -0.7568025   0.14112001  0.14112001]\n",
      "--------------------------------\n",
      "Cosseno:\n",
      " [-0.65364362  1.         -0.9899925  -0.9899925  -0.9899925   0.54030231\n",
      " -0.9899925  -0.41614684 -0.65364362  1.          1.         -0.65364362\n",
      " -0.41614684  0.54030231  1.          0.54030231  0.54030231  1.\n",
      "  0.54030231 -0.65364362 -0.9899925   1.         -0.9899925   1.\n",
      " -0.41614684 -0.9899925   1.          0.54030231 -0.9899925  -0.9899925\n",
      " -0.9899925   1.          0.54030231  0.54030231  0.54030231  1.\n",
      " -0.41614684 -0.65364362 -0.9899925  -0.9899925 ]\n",
      "--------------------------------\n",
      "Log base 2:\n",
      " [2.             -inf 1.5849625 1.5849625 1.5849625 0.        1.5849625\n",
      " 1.        2.             -inf      -inf 2.        1.        0.\n",
      "      -inf 0.        0.             -inf 0.        2.        1.5849625\n",
      "      -inf 1.5849625      -inf 1.        1.5849625      -inf 0.\n",
      " 1.5849625 1.5849625 1.5849625      -inf 0.        0.        0.\n",
      "      -inf 1.        2.        1.5849625 1.5849625]\n",
      "--------------------------------\n"
     ]
    },
    {
     "name": "stderr",
     "output_type": "stream",
     "text": [
      "C:\\Users\\T-Gamer\\AppData\\Local\\Temp\\ipykernel_1912\\2977333244.py:16: RuntimeWarning: divide by zero encountered in log2\n",
      "  print('Log base 2:\\n', np.log2(arr))\n"
     ]
    }
   ],
   "source": [
    "np.random.seed(0)\n",
    "\n",
    "arr = np.random.randint(0, 5, 40)\n",
    "print(arr)\n",
    "print('-'*32)\n",
    "\n",
    "# Seno\n",
    "print('Seno:\\n', np.sin(arr))\n",
    "print('-'*32)\n",
    "\n",
    "# Cosseno\n",
    "print('Cosseno:\\n', np.cos(arr))\n",
    "print('-'*32)\n",
    "\n",
    "# Log base 2\n",
    "print('Log base 2:\\n', np.log2(arr))\n",
    "print('-'*32)"
   ]
  }
 ],
 "metadata": {
  "kernelspec": {
   "display_name": "base",
   "language": "python",
   "name": "python3"
  },
  "language_info": {
   "codemirror_mode": {
    "name": "ipython",
    "version": 3
   },
   "file_extension": ".py",
   "mimetype": "text/x-python",
   "name": "python",
   "nbconvert_exporter": "python",
   "pygments_lexer": "ipython3",
   "version": "3.9.13"
  },
  "orig_nbformat": 4
 },
 "nbformat": 4,
 "nbformat_minor": 2
}
