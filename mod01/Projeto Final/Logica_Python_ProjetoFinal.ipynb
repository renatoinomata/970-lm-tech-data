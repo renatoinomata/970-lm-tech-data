{
 "cells": [
  {
   "attachments": {},
   "cell_type": "markdown",
   "metadata": {
    "tags": []
   },
   "source": [
    "# Projeto final: [DS-PY-017] LÓGICA DE PROGRAMAÇÃO II (PY)\n",
    "## Turma #970 - LM Tech Data Talents\n",
    "Aluno: Renato Massamitsu Zama Inomata"
   ]
  },
  {
   "cell_type": "markdown",
   "metadata": {},
   "source": [
    "\n",
    "O presente trabalho tem como objetivo criar um sistema de cadastro voltado à música. Suas funcionalidades foram divididas entre usuário comum e administrador."
   ]
  },
  {
   "attachments": {},
   "cell_type": "markdown",
   "metadata": {},
   "source": [
    "A seguir, são as bibliotecas e funções externas que utilizei no programa."
   ]
  },
  {
   "cell_type": "code",
   "execution_count": 7,
   "metadata": {},
   "outputs": [],
   "source": [
    "import json\n",
    "from functools import reduce\n",
    "from IPython.display import clear_output"
   ]
  },
  {
   "attachments": {},
   "cell_type": "markdown",
   "metadata": {},
   "source": [
    "\n",
    "### Arquivos\n",
    "\n",
    "Os arquivos são armazenados em formato `.json`. Optei por utilizar o formato para que eu me familiarizasse melhor com a estrutura de dicionários.\n",
    "\n",
    "Os arquivos foram divididos em 3, `artistas.json`, `albuns.json` e `playlists.json`."
   ]
  },
  {
   "attachments": {},
   "cell_type": "markdown",
   "metadata": {},
   "source": [
    "\n",
    "#### `artistas.json`\n",
    "O arquivo `artistas.json` se trata de um dicionário de dicionários, onde a chave é o nome do artista e o valor um dicionário contendo `nome_album` e `id_album`. Ambas têm como valores uma tupla contendo respectivamente o nome e o ID do álbum. Optei por adicionar essa informação do `id_album` para me resguardar em casos que dois artistas possuam o mesmo nome para o álbum.\n",
    "\n",
    "> Não previ o caso de termos artistas com nomes repetidos por ser razoavelmente raro. Para fins de entrega do trabalho não achei que fosse algo vital na funcionalidade do programa.\n",
    "> > Dito isso, caso fosse implementado, provavelmente iria utilizar o `id_artista` como chave para o dicionário `artistas` e `nome_artista` como um dos elementos dentro do dicionário correspondente ao valor. "
   ]
  },
  {
   "cell_type": "code",
   "execution_count": 8,
   "metadata": {},
   "outputs": [],
   "source": [
    "#artistas\n",
    "linkin_park = {\"Linkin Park\":   {\"nome_album\": [\"A Thousand Suns\", \n",
    "                                            \"Meteora\",\n",
    "                                            \"Minutes to Midnight\",\n",
    "                                            \"LIVING THINGS\",\n",
    "                                            \"Numb/Encore: MTV Ultimate Mash-Ups Presents Collision Course\",\n",
    "                                            \"Hybrid Theory (Bonus Edition)\"],\n",
    "                                \"id_album\": [448,\n",
    "                                            449,\n",
    "                                            450,\n",
    "                                            445,\n",
    "                                            446,\n",
    "                                            447]}}"
   ]
  },
  {
   "attachments": {},
   "cell_type": "markdown",
   "metadata": {},
   "source": [
    "\n",
    "#### `albuns.json`\n",
    "\n",
    "O arquivo `albuns.json` também é um dicionário de dicionários, porém desta vez a chave é o `id_album` previamente mencionado. Os valores são `nome_album`, `nome_musica` e `id_musica`. A lógica para esses valores é equivalente, cada um recebe uma tupla com as informações respectivas."
   ]
  },
  {
   "cell_type": "code",
   "execution_count": 9,
   "metadata": {},
   "outputs": [],
   "source": [
    "#albuns\n",
    "hybrid_theory = {\"446\": {\"nome_album\": \"Hybrid Theory (Bonus Edition)\",\n",
    "                        \"nome_musica\": [\"Crawling\",\n",
    "                                        \"In the End\",\n",
    "                                        \"One Step Closer\"],\n",
    "                        \"id_musica\": [1152,\n",
    "                                    1153,\n",
    "                                    1151]}}"
   ]
  },
  {
   "attachments": {},
   "cell_type": "markdown",
   "metadata": {},
   "source": [
    "\n",
    "#### `playlists.json`\n",
    "\n",
    "Por fim, o arquivo `playlists.json` contém outro dicionário, dessa vez com o nome da playlist como chave e um dicionário contendo `nome_musica`, `id_musica` e `nome_artista` como seus valores. A lista `nome_artista` foi colocada nesse dicionário para facilitar as buscas por artista que o usuário poderia solicitar."
   ]
  },
  {
   "cell_type": "code",
   "execution_count": 10,
   "metadata": {},
   "outputs": [],
   "source": [
    "#playlist\n",
    "random_playlist_07 = {\"random_playlist#07\": {\"nome_musica\": [\"Topanga\",\n",
    "                                                            \"Stir Fry\",\n",
    "                                                            \"In the End\",\n",
    "                                                            \"We're Almost There\",\n",
    "                                                            \"Madness\"],\n",
    "                                            \"id_musica\": [1977, \n",
    "                                                        1372,\n",
    "                                                        1151,\n",
    "                                                        1342,\n",
    "                                                        1410],\n",
    "                                            \"nome_artista\": [\"Trippie Redd\",\n",
    "                                                            \"Migos\",\n",
    "                                                            \"Linkin Park\",\n",
    "                                                            \"Michael Jackson\",\n",
    "                                                            \"Muse\"]}}\n"
   ]
  },
  {
   "attachments": {},
   "cell_type": "markdown",
   "metadata": {},
   "source": [
    "Para facilitar meus testes com a funcionalidade do programa, busquei uma base de dados maior e encontrei este dataset: https://marianaossilva.github.io/DSW2019/index.html\n",
    "\n",
    "Como não vimos pacotes mais específicos para trabalharmos com dados acabei utilizando o que já sabia de outras linguagens e programas para filtrar e organizar os dados em `.csv` disponibilizados no link anterior. \n",
    "\n",
    "Os dados no arquivo que encaminhei junto ao trabalho são todos os álbuns e músicas que encontrei no dataset para os artistas com a popularidade maior que 80. Foram 227 artistas, 833 álbuns e 2107 músicas que inclui nos arquivos.\n",
    "\n",
    "Depois fiz um tratamento a parte para transformar os dados da tabela em dicionários, a fim de adequar o que eu havia proposto para as estruturas de artistas, álbuns e playlists.\n",
    "\n",
    "Outra solução que eu poderia ter adotado seria armazenar os dados em `.csv` e lê-los como listas de listas, onde cada indexador da lista representasse uma informação diferente. Como queria praticar o uso de dicionários acabei transformando os dados de `.csv` em `.json` uma única vez (fora deste programa) e baseei meu código nesse formato."
   ]
  },
  {
   "attachments": {},
   "cell_type": "markdown",
   "metadata": {},
   "source": [
    "### Menus"
   ]
  },
  {
   "attachments": {},
   "cell_type": "markdown",
   "metadata": {},
   "source": [
    "Busquei modularizar funções para que fossem chamadas numa função principal `main()`.\n",
    "\n",
    "As funções `menu_principal()`, `menu_admin()`, `menu_user()`, `menu_buscar_playlist()` servem para imprimir o menu específico na tela, receber a opção do usuário através de um input e retornar a opção escolhida. \n",
    "\n",
    "> As opções, apesar de serem numeradas de 1 a 3, foram tratadas em forma de string por simplicidade."
   ]
  },
  {
   "attachments": {},
   "cell_type": "markdown",
   "metadata": {},
   "source": [
    "Defini também a função `input_opcao()` para solicitar um input do usuário. A função irá rodar até que a opção digitada esteja dentro de uma lista `opcoes_validas` informada de acordo com seu uso."
   ]
  },
  {
   "cell_type": "code",
   "execution_count": 11,
   "metadata": {},
   "outputs": [],
   "source": [
    "def input_opcao(opcoes_validas):\n",
    "    while True:\n",
    "        opcao = input('Digite uma das opções: ')\n",
    "        if opcao in opcoes_validas:\n",
    "            return opcao\n",
    "        \n",
    "        print('Opção inválida.')"
   ]
  },
  {
   "cell_type": "code",
   "execution_count": 12,
   "metadata": {},
   "outputs": [],
   "source": [
    "def menu_principal():\n",
    "    print('------------------------')\n",
    "    print('#### MENU PRINCIPAL ####')\n",
    "    print('------------------------')\n",
    "    print('[1] Logar como usuário')\n",
    "    print('[2] Logar como admin')\n",
    "    print('[3] Sair')\n",
    "    opcao = input_opcao(['1', '2', '3'])\n",
    "    return opcao"
   ]
  },
  {
   "cell_type": "code",
   "execution_count": 13,
   "metadata": {},
   "outputs": [],
   "source": [
    "def menu_admin():\n",
    "    print('------------------------')\n",
    "    print('###### MENU ADMIN ######')\n",
    "    print('------------------------')\n",
    "    print('[1] Registrar artista')\n",
    "    print('[2] Registrar álbum')\n",
    "    print('[3] Sair')\n",
    "    opcao = input_opcao(['1', '2', '3'])\n",
    "    return opcao"
   ]
  },
  {
   "cell_type": "code",
   "execution_count": 14,
   "metadata": {},
   "outputs": [],
   "source": [
    "def menu_user():\n",
    "    print('------------------------')\n",
    "    print('###### MENU USER #######')\n",
    "    print('------------------------')\n",
    "    print('[1] Buscar playlist')\n",
    "    print('[2] Criar playlist')\n",
    "    print('[3] Sair')\n",
    "    opcao = input_opcao(['1', '2', '3'])\n",
    "    return opcao"
   ]
  },
  {
   "cell_type": "code",
   "execution_count": 15,
   "metadata": {},
   "outputs": [],
   "source": [
    "def menu_buscar_playlist():\n",
    "    print('-----------------------')\n",
    "    print('### BUSCAR PLAYLIST ###')\n",
    "    print('-----------------------')\n",
    "    print('[1] Buscar por música')\n",
    "    print('[2] Buscar por artista')\n",
    "    print('[3] Buscar por nome da playlist')\n",
    "    opcao = input_opcao(['1', '2', '3'])\n",
    "    return opcao"
   ]
  },
  {
   "attachments": {},
   "cell_type": "markdown",
   "metadata": {},
   "source": [
    "### Lendo arquivos"
   ]
  },
  {
   "attachments": {},
   "cell_type": "markdown",
   "metadata": {},
   "source": [
    "A princípio eu havia pensado no código para montar estruturas com tuplas. Porém, na hora de transformar o arquivo em JSON os dados acabam sendo formatados com `[]`. Considerando que pela funcionalidade do programa o usuário não deveria poder realizar manipulações dos dados, optei por manter a estrutura de listas."
   ]
  },
  {
   "attachments": {},
   "cell_type": "markdown",
   "metadata": {},
   "source": [
    "#### `ler_arquivos`\n",
    "O código abaixo serve para abrir os arquivos e realizar as leituras. Ele usa o `try` para primeiramente tentar abrir o arquivo. Caso o arquivo não seja encontrado ou apresente um `TypeError`, ele irá criar um arquivo vazio. Caso haja mais algum problema durante a execução, como por exemplo a transformação de JSON para dicionário não ocorra com sucesso, `ler_arquivos` apenas retornará um dicionário vazio."
   ]
  },
  {
   "cell_type": "code",
   "execution_count": 16,
   "metadata": {},
   "outputs": [],
   "source": [
    "def ler_arquivos(nome_arquivo: str) -> dict:\n",
    "    try:\n",
    "        with open(nome_arquivo, 'r') as arquivo:\n",
    "            conteudo = arquivo.read()\n",
    "            \n",
    "        conteudo_json = json.loads(conteudo)\n",
    "\n",
    "        return conteudo_json\n",
    "    \n",
    "    except (FileNotFoundError, TypeError):\n",
    "        with open(nome_arquivo, 'w') as arquivo:\n",
    "            conteudo = arquivo.write('{}')\n",
    "        \n",
    "        return dict()\n",
    "\n",
    "    except:\n",
    "        return dict()"
   ]
  },
  {
   "attachments": {},
   "cell_type": "markdown",
   "metadata": {},
   "source": [
    "#### `int_id_album`\n",
    "A função `int_id_album` transforma as chaves do dicionário `albuns` em inteiros. Tive que criá-la pois estes dados estavam sendo armazenados como strings nas chaves quando utilizei a função `json.dumps()`."
   ]
  },
  {
   "cell_type": "code",
   "execution_count": 17,
   "metadata": {},
   "outputs": [],
   "source": [
    "def int_id_album(albuns: dict) -> dict:\n",
    "\n",
    "    return {int(album_id): album for album_id, album in albuns.items()}"
   ]
  },
  {
   "attachments": {},
   "cell_type": "markdown",
   "metadata": {},
   "source": [
    "#### `ler_tudo`\n",
    "`ler_tudo` lê os arquivos de artistas, álbuns e playlists e no caso dos álbuns, também faz a conversão para inteiros das chaves."
   ]
  },
  {
   "cell_type": "code",
   "execution_count": 18,
   "metadata": {},
   "outputs": [],
   "source": [
    "def ler_tudo():\n",
    "    artistas = ler_arquivos('artistas.json')\n",
    "    albuns = ler_arquivos('albuns.json')\n",
    "    playlists = ler_arquivos('playlists.json')\n",
    "\n",
    "    albuns = int_id_album(albuns)\n",
    "\n",
    "    return artistas, albuns, playlists"
   ]
  },
  {
   "attachments": {},
   "cell_type": "markdown",
   "metadata": {},
   "source": [
    "#### `escrever`\n",
    "`escrever` é a função que irá escrever os arquivos toda vez que solicitado. Optei por utilizar `'w'` como parâmetro do `open` pois eu havia restringido a leitura na função `ler_arquivos`, assim `'r+'` não parecia ser necessário. Também não queria trabalhar com `'a'` pois geraria uma complexidade na hora de inserir os dados em formato JSON para os arquivos."
   ]
  },
  {
   "cell_type": "code",
   "execution_count": 42,
   "metadata": {},
   "outputs": [],
   "source": [
    "def escrever(conteudo: dict, nome_arquivo: str) -> None:\n",
    "    try:\n",
    "        with open(nome_arquivo, 'w') as arquivo:\n",
    "            arquivo.write(json.dumps(conteudo, indent = 4))\n",
    "    except Exception as e:\n",
    "        print(f'Erro: {e}')\n",
    "        \n",
    "    return None"
   ]
  },
  {
   "attachments": {},
   "cell_type": "markdown",
   "metadata": {},
   "source": [
    "### Funções auxiliares"
   ]
  },
  {
   "attachments": {},
   "cell_type": "markdown",
   "metadata": {},
   "source": [
    "\n",
    "#### `max_ids()`\n",
    "\n",
    "A ideia de utilizar IDs para individualizar os álbuns e músicas, independentemente se houverem nomes repetidos, gerou a problemática em como definir IDs para cadastros novos.\n",
    "\n",
    "Adotei que os IDs seriam incrementados de um em um, conforme cadastros novos fossem realizados. Dessa maneira, bastaria eu determinar qual é o maior ID tanto para `id_album` quanto para `id_musica` e então incrementá-los para obter o ID do próximo cadastro.\n",
    "\n",
    "Esse inclusive é o motivo de eu ter utilizado `int` como o tipo de variável para essas informações, para que fosse possível realizar operações matemáticas com os IDs.\n",
    "\n",
    "Não achei interessante utilizar o `len` dos objetos pois se por algum motivo houvesse algum número que fosse \"pulado\" nos IDs, eu teria problema de IDs repetidos na estrutura."
   ]
  },
  {
   "cell_type": "code",
   "execution_count": 20,
   "metadata": {},
   "outputs": [],
   "source": [
    "def max_ids(albuns):\n",
    "    if albuns == {}:\n",
    "        return 0, 0\n",
    "    \n",
    "    max_id_album = max(albuns.keys())\n",
    "    max_id_musica = max([valor['id_musica'] if type(valor['id_musica']) == int else max(valor['id_musica']) for valor in albuns.values()])\n",
    "\n",
    "    return max_id_album, max_id_musica"
   ]
  },
  {
   "attachments": {},
   "cell_type": "markdown",
   "metadata": {},
   "source": [
    "### Funções de cadastro\n",
    "As funções `cadastrar_artista()`, `cadastrar_album()`, `cadastrar_playlist()`, conforme próprio nome sugere, servem para realizar cadastro.\n",
    "\n",
    "\n",
    "\n",
    "\n",
    " "
   ]
  },
  {
   "attachments": {},
   "cell_type": "markdown",
   "metadata": {},
   "source": [
    "#### `cadastrar_artista`\n",
    "\n",
    "O programa pede para o usuário digitar o nome para o novo artista, se ele já existir na base de dados ele retorna uma mensagem dizendo que o artista já foi cadastrado. Caso contrário, ele gera uma estrutura vazia com a chave `nome_artista`."
   ]
  },
  {
   "cell_type": "code",
   "execution_count": 21,
   "metadata": {},
   "outputs": [],
   "source": [
    "def cadastrar_artista(artistas):\n",
    "    novo_artistas = artistas.copy()\n",
    "    artista = input('Digite um novo artista: ')\n",
    "\n",
    "    if artista not in artistas:\n",
    "        novo_artistas[artista] = {'nome_album': [],\n",
    "                                    'id_album': []}\n",
    "        return novo_artistas\n",
    "    \n",
    "    print('Artista já cadastrado.')\n",
    "    return novo_artistas"
   ]
  },
  {
   "attachments": {},
   "cell_type": "markdown",
   "metadata": {},
   "source": [
    "#### `cadastrar_album`\n",
    "\n",
    "Nessa função o usuário digita primeiramente o nome do artista, caso ele não seja encontrado é printado uma mensagem de erro. \n",
    "\n",
    "Em seguida, solicita-se o nome para o álbum, da mesma forma, caso ele já exista, uma mensagem de erro aparece.\n",
    "\n",
    "Depois, é solicitado o número de músicas e finalmente cada música é solicitada uma a uma de acordo com o número previamente informado.\n",
    "\n",
    "O programa finaliza realizando appends de `nome_album` e `id_album` no dicionário de artistas e também criando o novo álbum no dicionário de álbuns."
   ]
  },
  {
   "cell_type": "code",
   "execution_count": 33,
   "metadata": {},
   "outputs": [],
   "source": [
    "def cadastrar_album(artistas, albuns, max_id_album, max_id_musica):\n",
    "    novo_artistas = artistas.copy()\n",
    "    novo_albuns = albuns.copy()\n",
    "    novo_max_id_album = max_id_album\n",
    "    novo_max_id_musica = max_id_musica\n",
    "\n",
    "    artista = input('Digite o nome do artista: ')\n",
    "    if artista not in artistas:\n",
    "        print('Artista não encontrado. Cancelando a operação.')\n",
    "        return novo_artistas, novo_albuns, novo_max_id_album, novo_max_id_musica\n",
    "    \n",
    "    novo_album = input('Digite o nome do álbum: ')\n",
    "    \n",
    "    if novo_album in novo_artistas[artista]['nome_album']:\n",
    "        print('Álbum já existe. Cancelando a operação.')\n",
    "        return novo_artistas, novo_albuns, novo_max_id_album, novo_max_id_musica\n",
    "\n",
    "    try:\n",
    "        num_musicas = int(input('Digite o número de músicas no álbum: '))\n",
    "    except:\n",
    "        print('Número de músicas inválido. Cancelando a operação.')\n",
    "        return novo_artistas, novo_albuns, novo_max_id_album, novo_max_id_musica\n",
    "    \n",
    "    nome_musicas = [input(f'Digite o nome da música {i+1}: ') for i in range(num_musicas)]\n",
    "    id_musicas = [id for id in range(novo_max_id_musica+1, novo_max_id_musica+1+num_musicas)]\n",
    "\n",
    "    novo_max_id_album += 1\n",
    "    novo_max_id_musica += num_musicas\n",
    "\n",
    "    novo_artistas[artista]['nome_album'].append(novo_album)\n",
    "    novo_artistas[artista]['id_album'].append(novo_max_id_album)\n",
    "\n",
    "    novo_albuns[novo_max_id_album] = {'nome_album': novo_album,\n",
    "                                      'nome_musica': nome_musicas,\n",
    "                                      'id_musica': id_musicas}\n",
    "    \n",
    "    return novo_artistas, novo_albuns, novo_max_id_album, novo_max_id_musica"
   ]
  },
  {
   "attachments": {},
   "cell_type": "markdown",
   "metadata": {},
   "source": [
    "#### `escolher_musica`\n",
    "A função `escolher_musica` a seguir foi criada para auxiliar na função `cadastrar_playlist`. É ela quem irá receber os inputs do usuário para que o mesmo escolha a música a ser adicionada a playlist."
   ]
  },
  {
   "cell_type": "code",
   "execution_count": 48,
   "metadata": {},
   "outputs": [],
   "source": [
    "def escolher_musica(artistas, albuns):\n",
    "    print('Confira a lista de artistas:')\n",
    "    [print(artista) for artista in sorted(artistas)]\n",
    "    \n",
    "    nome_artista = input('Digite o nome do artista: ')\n",
    "    while nome_artista not in artistas:\n",
    "        nome_artista = input('Artista não encontrado. Digite o nome do artista')\n",
    "    \n",
    "    ids_albuns = artistas[nome_artista]['id_album']\n",
    "\n",
    "    clear_output(wait=True)\n",
    "    print('-'*64)\n",
    "    print(f'Confira os álbuns do artista {nome_artista}:')\n",
    "    albuns_artista = [infos['nome_album'] for album, infos in albuns.items() if album in ids_albuns]\n",
    "    [print(album) for album in albuns_artista]\n",
    "    \n",
    "    nome_album = input('Digite o nome do álbum: ')\n",
    "    while nome_album not in albuns_artista:\n",
    "        nome_album = input('Álbum não encontrado. Digite o nome do álbum: ')\n",
    "    \n",
    "    id_album = [id for album, id in zip(artistas[nome_artista]['nome_album'], artistas[nome_artista]['id_album']) if nome_album == album][0]\n",
    "\n",
    "    clear_output(wait=True)\n",
    "    print('-'*64)\n",
    "    print(f'Confira as músicas do artista {nome_artista} no álbum {nome_album}: ')\n",
    "    musicas_album = albuns[id_album]['nome_musica']\n",
    "    [print(musica) for musica in musicas_album]\n",
    "    \n",
    "    nome_musica = input('Digite o nome da música: ')\n",
    "    while nome_musica not in musicas_album:\n",
    "        nome_musica = input('Música não encontrada. Digite o nome da música: ')\n",
    "    \n",
    "    id_musica = [id for musica, id in zip(albuns[id_album]['nome_musica'], albuns[id_album]['id_musica']) if nome_musica == musica][0]\n",
    "\n",
    "    return nome_artista, nome_album, id_album, nome_musica, id_musica"
   ]
  },
  {
   "attachments": {},
   "cell_type": "markdown",
   "metadata": {},
   "source": [
    "#### `cadastrar_playlist`\n",
    "A função `cadastrar_playlist` primeiro valida se os dicionários `albuns` ou `artistas` estão vazios.\n",
    "\n",
    "Em seguida solicita o nome para a playlist, repetindo até que o usuário digite um nome que já está sendo utilizado.\n",
    "\n",
    "Por fim, ela vai solicitando em loop `while True` a escolha das músicas com a função anterior. Ao final é solicitado que o usuário digite `S` ou `N` para que ele continue ou não a adicionar mais músicas.\n"
   ]
  },
  {
   "cell_type": "code",
   "execution_count": 24,
   "metadata": {},
   "outputs": [],
   "source": [
    "def cadastrar_playlist(artistas, albuns, playlists):\n",
    "\n",
    "    if albuns == {} or artistas == {}:\n",
    "        print('Parece que não há dados de artistas e álbuns cadastrados, por favor consulte o seu administrador.')\n",
    "        return None\n",
    "\n",
    "    nome_playlist = input('Informe o nome para a sua playlist: ')\n",
    "    while nome_playlist in playlists:\n",
    "        nome_playlist = input('Nome já cadastrado. Informe o nome para a sua playlist: ')\n",
    "    \n",
    "    playlist_musicas = []\n",
    "    playlist_ids = []\n",
    "    playlist_artistas = []\n",
    "    playlists_novas = playlists.copy()\n",
    "\n",
    "    while True:\n",
    "        nome_artista, *_,  nome_musica, id_musica = escolher_musica(artistas, albuns)\n",
    "        playlist_musicas.append(nome_musica)\n",
    "        playlist_ids.append(id_musica)\n",
    "        playlist_artistas.append(nome_artista)\n",
    "\n",
    "        opcao = input('Deseja continuar? (S/N) ').upper()\n",
    "        while opcao != 'S' and opcao != 'N':\n",
    "            opcao = input('Opção inválida. Deseja continuar? (S/N) ').upper()\n",
    "            \n",
    "        if opcao == 'N':\n",
    "            playlists_novas[nome_playlist] = {'nome_musica': playlist_musicas,\n",
    "                                        'id_musica': playlist_ids,\n",
    "                                        'nome_artista': playlist_artistas}\n",
    "\n",
    "            return playlists_novas"
   ]
  },
  {
   "attachments": {},
   "cell_type": "markdown",
   "metadata": {},
   "source": [
    "### Buscas"
   ]
  },
  {
   "attachments": {},
   "cell_type": "markdown",
   "metadata": {},
   "source": [
    "#### `filter_conteudo`\n",
    "A função `filter_conteudo` foi criada para filtrar os conteúdos de um dicionário passando os pares chave/valor dentro de um argumento `**kwargs`.\n",
    "\n",
    "Ela foi utilizada durante a execução das funções de buscas de playlists. A princípio, eu havia previsto que as próprias funções de buscas fariam sua própria filtragem, porém consegui desenvolver essa função de forma bastante genérica e aplicável para diversos casos. \n",
    "\n",
    "Apesar de usar conteúdos bastante específicos e consideravelmente mais difíceis deste módulo, `filter_conteudo` não foi uma forma de aplicar todo o \"restante\" da matéria de uma só vez. Como eu queria que ela fosse bastante versátil, pensei em criar os `**kwargs`, uma vez que a minha estrutura de dados permitiria facilmente trabalhar com este tipo de argumento (todos os dicionários são, no máximo, um dicionário de dicionário e não dicionários de dicionários de dicionários).\n",
    "\n",
    "A linha\n",
    "\n",
    "> keys = [[chave for chave, conteudo in dicionario.items() if filtro in conteudo[parametro]] for parametro, filtro in kwargs.items()]\n",
    "\n",
    "foi a forma que eu encontrei de utilizar uma compreensão de listas para filtrar o conteúdo do dicionário. Ela percorre os parâmetros de `kwargs` e depois os elementos do dicionário, gerando uma lista de listas. \n",
    "\n",
    "A primeira versão desse código não estava prevendo a utilização de mais de um `kwarg`, não sendo necessário um loop específico para isso. Apesar de realmente não utilizar mais de um `kwarg` durante a execução do meu programa, eu pensei que talvez poderia aplicar esse tipo de filtragem em algum outro momento. \n",
    "\n",
    "Eu cogitei também transformar essa compreensão de listas em um loop for, porém achei a compreensão de lista mais interessante uma vez que ela gera uma lista, para cada parâmetro passado na função, que por sua vez contém uma lista de ocorrências desse parâmetro no dicionário. Essa lista de listas é importante pois com o argumento `match_exato` eu posso definir se quero que o resultado da função seja as ocorrências que correspondem a exatamente todos os parâmetros ou se elas correspondem a pelo menos um dos parâmetros passados.\n",
    "\n",
    "A ideia é que com a lista de listas, eu pude transformar as listas internas em sets e compará-las com as demais. Dessa forma, se `match_exato` for `False` eu estaria realizando a união dos conjuntos, enquanto que se fosse `True` o programa estaria realizando a interseção dos mesmos. Neste contexto, fez bastante sentido também utilizar `reduce`, pois eu queria aplicar a transformação em set, a união/interseção deles e ir acumulando esse resultado ao percorrer a lista.\n",
    "\n",
    "Finalmente, `nome_playlist` foi adicionado para o caso específico das buscas por nome da playlist, uma vez que ela se trata da chave do dicionário e portanto não necessitaria de todo o conteúdo aplicado para os demais casos."
   ]
  },
  {
   "cell_type": "code",
   "execution_count": 25,
   "metadata": {},
   "outputs": [],
   "source": [
    "def filter_conteudo(dicionario, nome_playlist = None, match_exato = False, **kwargs):\n",
    "    if nome_playlist != None:\n",
    "        keys = [chave for chave in dicionario.keys() if chave == nome_playlist]\n",
    "        return keys\n",
    "    \n",
    "    else:\n",
    "        # para cada parametro em **kwargs, verificar se kwargs está em um conteúdo do dicionário, se estiver retornar a chave\n",
    "        keys = [[chave for chave, conteudo in dicionario.items() if filtro in conteudo[parametro]] for parametro, filtro in kwargs.items()]\n",
    "        \n",
    "        # keys é uma lista que contém listas com todos as chaves que eram iguais aos valores de kwargs, para cada parametro de kwargs\n",
    "\n",
    "        # se match_exato == False, quer dizer que iremos fazer a união entre as listas dentro da lista keys\n",
    "        # caso match_exato == True, faremos a interseção das listas de keys\n",
    "\n",
    "        if match_exato == False:\n",
    "            keys = list(reduce(lambda x, y: set(x).union(set(y)), keys))\n",
    "    \n",
    "        else:\n",
    "            keys = list(reduce(lambda x, y: set(x).intersection(set(y)), keys))\n",
    "    \n",
    "        return keys"
   ]
  },
  {
   "cell_type": "code",
   "execution_count": null,
   "metadata": {},
   "outputs": [],
   "source": [
    "# Teste filter_conteudo\n",
    "\n",
    "artistas, albuns, playlists = ler_tudo()\n",
    "\n",
    "a = filter_conteudo(playlists, match_exato = False, nome_artista = 'Michael Jackson', nome_musica = 'In the End')\n",
    "print(a)\n",
    "b = filter_conteudo(playlists, match_exato = True, nome_artista = 'Michael Jackson', nome_musica = 'In the End')\n",
    "print(b)"
   ]
  },
  {
   "attachments": {},
   "cell_type": "markdown",
   "metadata": {},
   "source": [
    "#### `print_playlists`\n",
    "\n",
    "`print_playlists` é uma função auxiliar para printar na tela os resultados encontrados nas buscas por playlists."
   ]
  },
  {
   "cell_type": "code",
   "execution_count": 27,
   "metadata": {},
   "outputs": [],
   "source": [
    "def print_playlists(playlists:dict, nomes_playlists:list, nome_artista:str = None, nome_musica:str = None, nome_playlist:str = None) -> None:\n",
    "\n",
    "    if nomes_playlists == []:\n",
    "        print('Não encontramos playlists com os dados informados :(')\n",
    "        return None\n",
    "\n",
    "    if nome_artista != None:\n",
    "        print(f'Playlists contendo [{nome_artista}]')\n",
    "    \n",
    "    if nome_musica != None:\n",
    "        print(f'Playlists contendo [{nome_musica}]')\n",
    "\n",
    "    if nome_playlist != None:\n",
    "        print(f'Playlist [{nome_playlist}]')\n",
    "\n",
    "    for playlist in nomes_playlists:\n",
    "        print(f'\\n>> {playlist} <<\\n')\n",
    "        [print(f'[{id}] {musica[1]} | {musica[0]}') for id, musica in enumerate(zip(playlists[playlist]['nome_musica'], playlists[playlist]['nome_artista']))]\n",
    "        print('-'*64)\n",
    "    return None"
   ]
  },
  {
   "attachments": {},
   "cell_type": "markdown",
   "metadata": {},
   "source": [
    "#### `buscar_playlist_musica`, `buscar_playlist_artista` e `buscar_playlist_nome`\n",
    "As funções de busca a seguir são as que recebem o input do usuário e chamam as funções anteriores (`filter_conteudo` e `print_playlist`) para filtragem e impressão na tela."
   ]
  },
  {
   "cell_type": "code",
   "execution_count": 28,
   "metadata": {},
   "outputs": [],
   "source": [
    "def buscar_playlist_musica(playlists):\n",
    "    nome_musica = input('Digite o nome da música: ')\n",
    "\n",
    "    filter_playlist = filter_conteudo(playlists, nome_musica = nome_musica)\n",
    "\n",
    "    print_playlists(playlists, filter_playlist, nome_musica = nome_musica)\n",
    "\n",
    "    return filter_playlist"
   ]
  },
  {
   "cell_type": "code",
   "execution_count": 29,
   "metadata": {},
   "outputs": [],
   "source": [
    "def buscar_playlist_artista(playlists):\n",
    "    nome_artista = input('Digite o nome do artista: ')\n",
    "\n",
    "    filter_playlist = filter_conteudo(playlists, nome_artista = nome_artista)\n",
    "\n",
    "    print_playlists(playlists, filter_playlist, nome_artista = nome_artista)\n",
    "\n",
    "    return filter_playlist"
   ]
  },
  {
   "cell_type": "code",
   "execution_count": 30,
   "metadata": {},
   "outputs": [],
   "source": [
    "def buscar_playlist_nome(playlists):\n",
    "    nome_playlist = input('Digite o nome da playlist: ')\n",
    "\n",
    "    filter_playlist = filter_conteudo(playlists, nome_playlist = nome_playlist)\n",
    "\n",
    "    print_playlists(playlists, filter_playlist, nome_playlist = nome_playlist)\n",
    "\n",
    "    return filter_playlist"
   ]
  },
  {
   "attachments": {},
   "cell_type": "markdown",
   "metadata": {},
   "source": [
    "### Código principal\n",
    "\n",
    "A seguir, o código principal do programa.\n",
    "\n",
    "O programa lê os arquivos JSON uma vez ao iniciar ao programa e também antes de cada etapa em que é solicitado um dos três dicionários principais.\n",
    "\n",
    "Da mesma forma, toda vez que o usuário realiza uma operação de cadastro, o programa irá escrever o JSON do dicionário cadastrado."
   ]
  },
  {
   "cell_type": "code",
   "execution_count": 39,
   "metadata": {},
   "outputs": [],
   "source": [
    "import json\n",
    "from functools import reduce\n",
    "from IPython.display import clear_output\n",
    "\n",
    "def main():\n",
    "\n",
    "    print('Bem-vindo(a) ao Vin Deezer!')\n",
    "\n",
    "    # Inicializar os arquivos\n",
    "    artistas, albuns, playlists = ler_tudo()\n",
    "\n",
    "    while True:\n",
    "        max_id_album, max_id_musica = max_ids(albuns)\n",
    "\n",
    "        opcao = menu_principal()\n",
    "        clear_output(wait=True)\n",
    "        \n",
    "        # Menu usuário\n",
    "        if opcao == '1':\n",
    "            while True:\n",
    "                opcao = menu_user()\n",
    "\n",
    "                if opcao == '1':\n",
    "                    clear_output(wait=True)\n",
    "                    print('------------------------')\n",
    "                    print('Buscar playlist')\n",
    "                    opcao = menu_buscar_playlist()\n",
    "\n",
    "                    if opcao == '1':                        \n",
    "                        clear_output(wait=True)\n",
    "                        print('------------------------')\n",
    "                        print('Buscar por música')\n",
    "                        playlists = ler_arquivos('playlists.json')\n",
    "                        buscar_playlist_musica(playlists)\n",
    "\n",
    "                    elif opcao == '2':                    \n",
    "                        clear_output(wait=True)    \n",
    "                        print('------------------------')\n",
    "                        print('Buscar por artista')\n",
    "                        playlists = ler_arquivos('playlists.json')\n",
    "                        buscar_playlist_artista(playlists)\n",
    "\n",
    "                    elif opcao == '3':\n",
    "                        clear_output(wait=True)\n",
    "                        print('------------------------')\n",
    "                        print('Buscar por nome da playlist')\n",
    "                        playlists = ler_arquivos('playlists.json')\n",
    "                        buscar_playlist_nome(playlists)\n",
    "\n",
    "\n",
    "                elif opcao == '2':\n",
    "                    clear_output(wait=True)\n",
    "                    print('------------------------')\n",
    "                    print('Criar playlist')\n",
    "                    artistas, albuns, playlists = ler_tudo()\n",
    "                    playlists = cadastrar_playlist(artistas, albuns, playlists)\n",
    "                    escrever(playlists, 'playlists.json')\n",
    "\n",
    "                else:\n",
    "                    clear_output(wait=True)\n",
    "                    print('------------------------')\n",
    "                    print('Saindo.')\n",
    "                    break\n",
    "        \n",
    "        # Menu admin\n",
    "        elif opcao == '2':\n",
    "            while True:\n",
    "                opcao = menu_admin()\n",
    "\n",
    "                if opcao == '1':\n",
    "                    clear_output(wait=True)\n",
    "                    print('------------------------')\n",
    "                    print('Registrar artista')\n",
    "                    artistas = ler_arquivos('artistas.json')\n",
    "                    artistas = cadastrar_artista(artistas)\n",
    "                    escrever(artistas, 'artistas.json')\n",
    "\n",
    "                elif opcao == '2':\n",
    "                    clear_output(wait=True)\n",
    "                    print('------------------------')\n",
    "                    print('Registrar álbum')\n",
    "                    artistas, albuns, playlists = ler_tudo()\n",
    "                    artistas, albuns, max_id_album, max_id_musica = cadastrar_album(artistas, albuns, max_id_album, max_id_musica)\n",
    "                    escrever(artistas, 'artistas.json')\n",
    "                    escrever(albuns, 'albuns.json')\n",
    "                    \n",
    "                else:\n",
    "                    clear_output(wait=True)\n",
    "                    print('------------------------')\n",
    "                    print('Saindo.')\n",
    "                    break\n",
    "        \n",
    "        # Sair\n",
    "        else:\n",
    "            print('Encerrando o programa! Obrigado por utilizá-lo :)')\n",
    "            break"
   ]
  },
  {
   "cell_type": "code",
   "execution_count": 40,
   "metadata": {},
   "outputs": [
    {
     "name": "stdout",
     "output_type": "stream",
     "text": [
      "Encerrando o programa! Obrigado por utilizá-lo :)\n"
     ]
    }
   ],
   "source": [
    "main()"
   ]
  }
 ],
 "metadata": {
  "kernelspec": {
   "display_name": "base",
   "language": "python",
   "name": "python3"
  },
  "language_info": {
   "codemirror_mode": {
    "name": "ipython",
    "version": 3
   },
   "file_extension": ".py",
   "mimetype": "text/x-python",
   "name": "python",
   "nbconvert_exporter": "python",
   "pygments_lexer": "ipython3",
   "version": "3.9.13"
  },
  "orig_nbformat": 4,
  "vscode": {
   "interpreter": {
    "hash": "b2aed2f3e17b1d9489cd2505f31b3d783854b2bceba64a7bc2427424d2cc465a"
   }
  }
 },
 "nbformat": 4,
 "nbformat_minor": 2
}
